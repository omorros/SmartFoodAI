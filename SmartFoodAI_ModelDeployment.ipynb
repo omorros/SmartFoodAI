{
  "cells": [
    {
      "cell_type": "markdown",
      "metadata": {
        "id": "view-in-github",
        "colab_type": "text"
      },
      "source": [
        "<a href=\"https://colab.research.google.com/github/omorros/SmartFoodAI/blob/main/SmartFoodAI_ModelDeployment.ipynb\" target=\"_parent\"><img src=\"https://colab.research.google.com/assets/colab-badge.svg\" alt=\"Open In Colab\"/></a>"
      ]
    },
    {
      "cell_type": "code",
      "execution_count": 1,
      "metadata": {
        "colab": {
          "base_uri": "https://localhost:8080/"
        },
        "id": "9IGw5KliVae7",
        "outputId": "c0216b97-162c-4cbc-cd57-0c24d58bb5ea"
      },
      "outputs": [
        {
          "output_type": "stream",
          "name": "stdout",
          "text": [
            "TensorFlow: 2.19.0\n",
            "Python: 3.12.12\n",
            "OS: Linux-6.6.105+-x86_64-with-glibc2.35\n",
            "GPU devices: []\n"
          ]
        }
      ],
      "source": [
        "# ==============================================================\n",
        "# CHECK ENVIRONMENT & GPU\n",
        "# ==============================================================\n",
        "\n",
        "import tensorflow as tf, platform, sys, os, random, numpy as np\n",
        "print(\"TensorFlow:\", tf.__version__)\n",
        "print(\"Python:\", sys.version.split()[0])\n",
        "print(\"OS:\", platform.platform())\n",
        "print(\"GPU devices:\", tf.config.list_physical_devices('GPU'))\n",
        "\n",
        "SEED = 42\n",
        "random.seed(SEED); np.random.seed(SEED); tf.random.set_seed(SEED)\n"
      ]
    },
    {
      "cell_type": "code",
      "execution_count": 2,
      "metadata": {
        "colab": {
          "base_uri": "https://localhost:8080/",
          "height": 73
        },
        "id": "IkeDv9Q8DIz0",
        "outputId": "97ee157e-d9dc-465a-df65-3d41a76b79ec"
      },
      "outputs": [
        {
          "output_type": "stream",
          "name": "stdout",
          "text": [
            "Kaggle API key configured successfully!\n"
          ]
        }
      ],
      "source": [
        "# ==============================================================\n",
        "# KAGGLE API SETUP (SAFE)\n",
        "# ==============================================================\n",
        "\n",
        "from google.colab import files\n",
        "print(\"Please upload your kaggle.json (Kaggle → Account → Create API Token)\")\n",
        "uploaded = files.upload()\n",
        "\n",
        "from IPython.display import clear_output\n",
        "clear_output()\n",
        "\n",
        "os.makedirs('/root/.kaggle', exist_ok=True)\n",
        "os.replace('kaggle.json', '/root/.kaggle/kaggle.json')\n",
        "os.chmod('/root/.kaggle/kaggle.json', 0o600)\n",
        "print(\"Kaggle API key configured successfully!\")\n",
        "\n"
      ]
    },
    {
      "cell_type": "code",
      "execution_count": 5,
      "metadata": {
        "colab": {
          "base_uri": "https://localhost:8080/"
        },
        "id": "oYBY7rlSFJ_y",
        "outputId": "6ca528a1-cd5f-4c06-a03d-50af6225001c"
      },
      "outputs": [
        {
          "output_type": "stream",
          "name": "stdout",
          "text": [
            "Downloading dataset from Kaggle...\n",
            "Dataset URL: https://www.kaggle.com/datasets/moltean/fruits\n",
            "License(s): CC-BY-SA-4.0\n",
            "Downloading fruits.zip to /content\n",
            "100% 4.53G/4.54G [01:05<00:00, 36.9MB/s]\n",
            "100% 4.54G/4.54G [01:06<00:00, 73.8MB/s]\n"
          ]
        }
      ],
      "source": [
        "# ==============================================================\n",
        "# DOWNLOAD FRUITS-360 DATASET\n",
        "# ==============================================================\n",
        "\n",
        "!pip install -q kaggle\n",
        "\n",
        "if not os.path.exists(\"/content/fruits_dataset\"):\n",
        "    print(\"Downloading dataset from Kaggle...\")\n",
        "    !kaggle datasets download -d moltean/fruits -p /content\n",
        "    !unzip -q /content/fruits.zip -d /content/fruits_dataset\n",
        "else:\n",
        "    print(\"Dataset already exists — skipping download.\")\n"
      ]
    },
    {
      "cell_type": "code",
      "execution_count": 3,
      "metadata": {
        "colab": {
          "base_uri": "https://localhost:8080/"
        },
        "id": "nv4Zb-Z_FV8v",
        "outputId": "8e1d7af7-bd8a-4f76-f6a9-8591f4cac130"
      },
      "outputs": [
        {
          "output_type": "stream",
          "name": "stdout",
          "text": [
            "Train path: /content/fruits_dataset/fruits-360_100x100/fruits-360/Training\n",
            "Test  path: /content/fruits_dataset/fruits-360_100x100/fruits-360/Test\n"
          ]
        }
      ],
      "source": [
        "# ==============================================================\n",
        "# DEFINE PATHS\n",
        "# ==============================================================\n",
        "\n",
        "BASE_DIR = \"/content/fruits_dataset/fruits-360_100x100/fruits-360\"\n",
        "TRAIN_DIR = os.path.join(BASE_DIR, \"Training\")\n",
        "TEST_DIR  = os.path.join(BASE_DIR, \"Test\")\n",
        "\n",
        "print(\"Train path:\", TRAIN_DIR)\n",
        "print(\"Test  path:\", TEST_DIR)\n"
      ]
    },
    {
      "cell_type": "code",
      "execution_count": 7,
      "metadata": {
        "colab": {
          "base_uri": "https://localhost:8080/"
        },
        "id": "6ggjV_gJFj8G",
        "outputId": "05b98870-2393-4e1a-cc58-903a21d86647"
      },
      "outputs": [
        {
          "output_type": "stream",
          "name": "stdout",
          "text": [
            "Example classes: ['Apple 10', 'Apple 11', 'Apple 12', 'Apple 13', 'Apple 14', 'Apple 17', 'Apple 18', 'Apple 19', 'Apple 5', 'Apple 6']\n",
            "Total fruit classes: 225\n"
          ]
        }
      ],
      "source": [
        "# ==============================================================\n",
        "# INSPECT DATASET STRUCTURE\n",
        "# ==============================================================\n",
        "\n",
        "subdirs = sorted([d for d in os.listdir(TRAIN_DIR) if os.path.isdir(os.path.join(TRAIN_DIR, d))])\n",
        "print(\"Example classes:\", subdirs[:10])\n",
        "print(\"Total fruit classes:\", len(subdirs))\n"
      ]
    },
    {
      "cell_type": "code",
      "execution_count": 8,
      "metadata": {
        "colab": {
          "base_uri": "https://localhost:8080/"
        },
        "id": "DTo_XfXYFmkv",
        "outputId": "1a974162-f8ab-4a79-d817-b4d0cdc300cc"
      },
      "outputs": [
        {
          "output_type": "stream",
          "name": "stdout",
          "text": [
            "Found 94134 images belonging to 225 classes.\n",
            "Found 23442 images belonging to 225 classes.\n",
            "Found 39212 images belonging to 225 classes.\n",
            "Classes detected: 225\n"
          ]
        }
      ],
      "source": [
        "# ==============================================================\n",
        "# IMAGE GENERATORS (AUGMENTATION)\n",
        "# ==============================================================\n",
        "\n",
        "from tensorflow.keras.preprocessing.image import ImageDataGenerator\n",
        "\n",
        "IMG_SIZE = (100, 100)\n",
        "BATCH = 32\n",
        "VAL_SPLIT = 0.2\n",
        "\n",
        "train_datagen = ImageDataGenerator(\n",
        "    rescale=1./255,\n",
        "    rotation_range=20,\n",
        "    width_shift_range=0.1,\n",
        "    height_shift_range=0.1,\n",
        "    shear_range=0.1,\n",
        "    zoom_range=0.1,\n",
        "    horizontal_flip=True,\n",
        "    validation_split=VAL_SPLIT\n",
        ")\n",
        "\n",
        "test_datagen = ImageDataGenerator(rescale=1./255)\n",
        "\n",
        "train_gen = train_datagen.flow_from_directory(\n",
        "    TRAIN_DIR,\n",
        "    target_size=IMG_SIZE,\n",
        "    batch_size=BATCH,\n",
        "    class_mode='categorical',\n",
        "    subset='training',\n",
        "    seed=SEED\n",
        ")\n",
        "\n",
        "val_gen = train_datagen.flow_from_directory(\n",
        "    TRAIN_DIR,\n",
        "    target_size=IMG_SIZE,\n",
        "    batch_size=BATCH,\n",
        "    class_mode='categorical',\n",
        "    subset='validation',\n",
        "    seed=SEED\n",
        ")\n",
        "\n",
        "test_gen = test_datagen.flow_from_directory(\n",
        "    TEST_DIR,\n",
        "    target_size=IMG_SIZE,\n",
        "    batch_size=BATCH,\n",
        "    class_mode='categorical',\n",
        "    shuffle=False\n",
        ")\n",
        "\n",
        "NUM_CLASSES = train_gen.num_classes\n",
        "print(\"Classes detected:\", NUM_CLASSES)\n"
      ]
    },
    {
      "cell_type": "code",
      "execution_count": 9,
      "metadata": {
        "colab": {
          "base_uri": "https://localhost:8080/",
          "height": 449
        },
        "id": "eGszwT43Fv71",
        "outputId": "8346dde3-94fc-498e-b422-0cbda9bb4c18"
      },
      "outputs": [
        {
          "output_type": "display_data",
          "data": {
            "text/plain": [
              "\u001b[1mModel: \"sequential\"\u001b[0m\n"
            ],
            "text/html": [
              "<pre style=\"white-space:pre;overflow-x:auto;line-height:normal;font-family:Menlo,'DejaVu Sans Mono',consolas,'Courier New',monospace\"><span style=\"font-weight: bold\">Model: \"sequential\"</span>\n",
              "</pre>\n"
            ]
          },
          "metadata": {}
        },
        {
          "output_type": "display_data",
          "data": {
            "text/plain": [
              "┏━━━━━━━━━━━━━━━━━━━━━━━━━━━━━━━━━┳━━━━━━━━━━━━━━━━━━━━━━━━┳━━━━━━━━━━━━━━━┓\n",
              "┃\u001b[1m \u001b[0m\u001b[1mLayer (type)                   \u001b[0m\u001b[1m \u001b[0m┃\u001b[1m \u001b[0m\u001b[1mOutput Shape          \u001b[0m\u001b[1m \u001b[0m┃\u001b[1m \u001b[0m\u001b[1m      Param #\u001b[0m\u001b[1m \u001b[0m┃\n",
              "┡━━━━━━━━━━━━━━━━━━━━━━━━━━━━━━━━━╇━━━━━━━━━━━━━━━━━━━━━━━━╇━━━━━━━━━━━━━━━┩\n",
              "│ conv2d (\u001b[38;5;33mConv2D\u001b[0m)                 │ (\u001b[38;5;45mNone\u001b[0m, \u001b[38;5;34m98\u001b[0m, \u001b[38;5;34m98\u001b[0m, \u001b[38;5;34m32\u001b[0m)     │           \u001b[38;5;34m896\u001b[0m │\n",
              "├─────────────────────────────────┼────────────────────────┼───────────────┤\n",
              "│ max_pooling2d (\u001b[38;5;33mMaxPooling2D\u001b[0m)    │ (\u001b[38;5;45mNone\u001b[0m, \u001b[38;5;34m49\u001b[0m, \u001b[38;5;34m49\u001b[0m, \u001b[38;5;34m32\u001b[0m)     │             \u001b[38;5;34m0\u001b[0m │\n",
              "├─────────────────────────────────┼────────────────────────┼───────────────┤\n",
              "│ conv2d_1 (\u001b[38;5;33mConv2D\u001b[0m)               │ (\u001b[38;5;45mNone\u001b[0m, \u001b[38;5;34m47\u001b[0m, \u001b[38;5;34m47\u001b[0m, \u001b[38;5;34m64\u001b[0m)     │        \u001b[38;5;34m18,496\u001b[0m │\n",
              "├─────────────────────────────────┼────────────────────────┼───────────────┤\n",
              "│ max_pooling2d_1 (\u001b[38;5;33mMaxPooling2D\u001b[0m)  │ (\u001b[38;5;45mNone\u001b[0m, \u001b[38;5;34m23\u001b[0m, \u001b[38;5;34m23\u001b[0m, \u001b[38;5;34m64\u001b[0m)     │             \u001b[38;5;34m0\u001b[0m │\n",
              "├─────────────────────────────────┼────────────────────────┼───────────────┤\n",
              "│ conv2d_2 (\u001b[38;5;33mConv2D\u001b[0m)               │ (\u001b[38;5;45mNone\u001b[0m, \u001b[38;5;34m21\u001b[0m, \u001b[38;5;34m21\u001b[0m, \u001b[38;5;34m128\u001b[0m)    │        \u001b[38;5;34m73,856\u001b[0m │\n",
              "├─────────────────────────────────┼────────────────────────┼───────────────┤\n",
              "│ max_pooling2d_2 (\u001b[38;5;33mMaxPooling2D\u001b[0m)  │ (\u001b[38;5;45mNone\u001b[0m, \u001b[38;5;34m10\u001b[0m, \u001b[38;5;34m10\u001b[0m, \u001b[38;5;34m128\u001b[0m)    │             \u001b[38;5;34m0\u001b[0m │\n",
              "├─────────────────────────────────┼────────────────────────┼───────────────┤\n",
              "│ flatten (\u001b[38;5;33mFlatten\u001b[0m)               │ (\u001b[38;5;45mNone\u001b[0m, \u001b[38;5;34m12800\u001b[0m)          │             \u001b[38;5;34m0\u001b[0m │\n",
              "├─────────────────────────────────┼────────────────────────┼───────────────┤\n",
              "│ dense (\u001b[38;5;33mDense\u001b[0m)                   │ (\u001b[38;5;45mNone\u001b[0m, \u001b[38;5;34m128\u001b[0m)            │     \u001b[38;5;34m1,638,528\u001b[0m │\n",
              "├─────────────────────────────────┼────────────────────────┼───────────────┤\n",
              "│ dropout (\u001b[38;5;33mDropout\u001b[0m)               │ (\u001b[38;5;45mNone\u001b[0m, \u001b[38;5;34m128\u001b[0m)            │             \u001b[38;5;34m0\u001b[0m │\n",
              "├─────────────────────────────────┼────────────────────────┼───────────────┤\n",
              "│ dense_1 (\u001b[38;5;33mDense\u001b[0m)                 │ (\u001b[38;5;45mNone\u001b[0m, \u001b[38;5;34m225\u001b[0m)            │        \u001b[38;5;34m29,025\u001b[0m │\n",
              "└─────────────────────────────────┴────────────────────────┴───────────────┘\n"
            ],
            "text/html": [
              "<pre style=\"white-space:pre;overflow-x:auto;line-height:normal;font-family:Menlo,'DejaVu Sans Mono',consolas,'Courier New',monospace\">┏━━━━━━━━━━━━━━━━━━━━━━━━━━━━━━━━━┳━━━━━━━━━━━━━━━━━━━━━━━━┳━━━━━━━━━━━━━━━┓\n",
              "┃<span style=\"font-weight: bold\"> Layer (type)                    </span>┃<span style=\"font-weight: bold\"> Output Shape           </span>┃<span style=\"font-weight: bold\">       Param # </span>┃\n",
              "┡━━━━━━━━━━━━━━━━━━━━━━━━━━━━━━━━━╇━━━━━━━━━━━━━━━━━━━━━━━━╇━━━━━━━━━━━━━━━┩\n",
              "│ conv2d (<span style=\"color: #0087ff; text-decoration-color: #0087ff\">Conv2D</span>)                 │ (<span style=\"color: #00d7ff; text-decoration-color: #00d7ff\">None</span>, <span style=\"color: #00af00; text-decoration-color: #00af00\">98</span>, <span style=\"color: #00af00; text-decoration-color: #00af00\">98</span>, <span style=\"color: #00af00; text-decoration-color: #00af00\">32</span>)     │           <span style=\"color: #00af00; text-decoration-color: #00af00\">896</span> │\n",
              "├─────────────────────────────────┼────────────────────────┼───────────────┤\n",
              "│ max_pooling2d (<span style=\"color: #0087ff; text-decoration-color: #0087ff\">MaxPooling2D</span>)    │ (<span style=\"color: #00d7ff; text-decoration-color: #00d7ff\">None</span>, <span style=\"color: #00af00; text-decoration-color: #00af00\">49</span>, <span style=\"color: #00af00; text-decoration-color: #00af00\">49</span>, <span style=\"color: #00af00; text-decoration-color: #00af00\">32</span>)     │             <span style=\"color: #00af00; text-decoration-color: #00af00\">0</span> │\n",
              "├─────────────────────────────────┼────────────────────────┼───────────────┤\n",
              "│ conv2d_1 (<span style=\"color: #0087ff; text-decoration-color: #0087ff\">Conv2D</span>)               │ (<span style=\"color: #00d7ff; text-decoration-color: #00d7ff\">None</span>, <span style=\"color: #00af00; text-decoration-color: #00af00\">47</span>, <span style=\"color: #00af00; text-decoration-color: #00af00\">47</span>, <span style=\"color: #00af00; text-decoration-color: #00af00\">64</span>)     │        <span style=\"color: #00af00; text-decoration-color: #00af00\">18,496</span> │\n",
              "├─────────────────────────────────┼────────────────────────┼───────────────┤\n",
              "│ max_pooling2d_1 (<span style=\"color: #0087ff; text-decoration-color: #0087ff\">MaxPooling2D</span>)  │ (<span style=\"color: #00d7ff; text-decoration-color: #00d7ff\">None</span>, <span style=\"color: #00af00; text-decoration-color: #00af00\">23</span>, <span style=\"color: #00af00; text-decoration-color: #00af00\">23</span>, <span style=\"color: #00af00; text-decoration-color: #00af00\">64</span>)     │             <span style=\"color: #00af00; text-decoration-color: #00af00\">0</span> │\n",
              "├─────────────────────────────────┼────────────────────────┼───────────────┤\n",
              "│ conv2d_2 (<span style=\"color: #0087ff; text-decoration-color: #0087ff\">Conv2D</span>)               │ (<span style=\"color: #00d7ff; text-decoration-color: #00d7ff\">None</span>, <span style=\"color: #00af00; text-decoration-color: #00af00\">21</span>, <span style=\"color: #00af00; text-decoration-color: #00af00\">21</span>, <span style=\"color: #00af00; text-decoration-color: #00af00\">128</span>)    │        <span style=\"color: #00af00; text-decoration-color: #00af00\">73,856</span> │\n",
              "├─────────────────────────────────┼────────────────────────┼───────────────┤\n",
              "│ max_pooling2d_2 (<span style=\"color: #0087ff; text-decoration-color: #0087ff\">MaxPooling2D</span>)  │ (<span style=\"color: #00d7ff; text-decoration-color: #00d7ff\">None</span>, <span style=\"color: #00af00; text-decoration-color: #00af00\">10</span>, <span style=\"color: #00af00; text-decoration-color: #00af00\">10</span>, <span style=\"color: #00af00; text-decoration-color: #00af00\">128</span>)    │             <span style=\"color: #00af00; text-decoration-color: #00af00\">0</span> │\n",
              "├─────────────────────────────────┼────────────────────────┼───────────────┤\n",
              "│ flatten (<span style=\"color: #0087ff; text-decoration-color: #0087ff\">Flatten</span>)               │ (<span style=\"color: #00d7ff; text-decoration-color: #00d7ff\">None</span>, <span style=\"color: #00af00; text-decoration-color: #00af00\">12800</span>)          │             <span style=\"color: #00af00; text-decoration-color: #00af00\">0</span> │\n",
              "├─────────────────────────────────┼────────────────────────┼───────────────┤\n",
              "│ dense (<span style=\"color: #0087ff; text-decoration-color: #0087ff\">Dense</span>)                   │ (<span style=\"color: #00d7ff; text-decoration-color: #00d7ff\">None</span>, <span style=\"color: #00af00; text-decoration-color: #00af00\">128</span>)            │     <span style=\"color: #00af00; text-decoration-color: #00af00\">1,638,528</span> │\n",
              "├─────────────────────────────────┼────────────────────────┼───────────────┤\n",
              "│ dropout (<span style=\"color: #0087ff; text-decoration-color: #0087ff\">Dropout</span>)               │ (<span style=\"color: #00d7ff; text-decoration-color: #00d7ff\">None</span>, <span style=\"color: #00af00; text-decoration-color: #00af00\">128</span>)            │             <span style=\"color: #00af00; text-decoration-color: #00af00\">0</span> │\n",
              "├─────────────────────────────────┼────────────────────────┼───────────────┤\n",
              "│ dense_1 (<span style=\"color: #0087ff; text-decoration-color: #0087ff\">Dense</span>)                 │ (<span style=\"color: #00d7ff; text-decoration-color: #00d7ff\">None</span>, <span style=\"color: #00af00; text-decoration-color: #00af00\">225</span>)            │        <span style=\"color: #00af00; text-decoration-color: #00af00\">29,025</span> │\n",
              "└─────────────────────────────────┴────────────────────────┴───────────────┘\n",
              "</pre>\n"
            ]
          },
          "metadata": {}
        },
        {
          "output_type": "display_data",
          "data": {
            "text/plain": [
              "\u001b[1m Total params: \u001b[0m\u001b[38;5;34m1,760,801\u001b[0m (6.72 MB)\n"
            ],
            "text/html": [
              "<pre style=\"white-space:pre;overflow-x:auto;line-height:normal;font-family:Menlo,'DejaVu Sans Mono',consolas,'Courier New',monospace\"><span style=\"font-weight: bold\"> Total params: </span><span style=\"color: #00af00; text-decoration-color: #00af00\">1,760,801</span> (6.72 MB)\n",
              "</pre>\n"
            ]
          },
          "metadata": {}
        },
        {
          "output_type": "display_data",
          "data": {
            "text/plain": [
              "\u001b[1m Trainable params: \u001b[0m\u001b[38;5;34m1,760,801\u001b[0m (6.72 MB)\n"
            ],
            "text/html": [
              "<pre style=\"white-space:pre;overflow-x:auto;line-height:normal;font-family:Menlo,'DejaVu Sans Mono',consolas,'Courier New',monospace\"><span style=\"font-weight: bold\"> Trainable params: </span><span style=\"color: #00af00; text-decoration-color: #00af00\">1,760,801</span> (6.72 MB)\n",
              "</pre>\n"
            ]
          },
          "metadata": {}
        },
        {
          "output_type": "display_data",
          "data": {
            "text/plain": [
              "\u001b[1m Non-trainable params: \u001b[0m\u001b[38;5;34m0\u001b[0m (0.00 B)\n"
            ],
            "text/html": [
              "<pre style=\"white-space:pre;overflow-x:auto;line-height:normal;font-family:Menlo,'DejaVu Sans Mono',consolas,'Courier New',monospace\"><span style=\"font-weight: bold\"> Non-trainable params: </span><span style=\"color: #00af00; text-decoration-color: #00af00\">0</span> (0.00 B)\n",
              "</pre>\n"
            ]
          },
          "metadata": {}
        }
      ],
      "source": [
        "# ==============================================================\n",
        "# BUILD CNN\n",
        "# ==============================================================\n",
        "\n",
        "from tensorflow.keras import layers, models\n",
        "\n",
        "model = models.Sequential([\n",
        "    layers.Input(shape=(IMG_SIZE[0], IMG_SIZE[1], 3)),\n",
        "    layers.Conv2D(32, (3,3), activation='relu'),\n",
        "    layers.MaxPooling2D(2,2),\n",
        "\n",
        "    layers.Conv2D(64, (3,3), activation='relu'),\n",
        "    layers.MaxPooling2D(2,2),\n",
        "\n",
        "    layers.Conv2D(128, (3,3), activation='relu'),\n",
        "    layers.MaxPooling2D(2,2),\n",
        "\n",
        "    layers.Flatten(),\n",
        "    layers.Dense(128, activation='relu'),\n",
        "    layers.Dropout(0.5),\n",
        "    layers.Dense(NUM_CLASSES, activation='softmax')\n",
        "])\n",
        "\n",
        "model.summary()\n"
      ]
    },
    {
      "cell_type": "code",
      "execution_count": 10,
      "metadata": {
        "id": "GjH0lR2bF1jn"
      },
      "outputs": [],
      "source": [
        "# ==============================================================\n",
        "# COMPILE & CALLBACKS\n",
        "# ==============================================================\n",
        "\n",
        "from tensorflow.keras.callbacks import EarlyStopping, ModelCheckpoint\n",
        "\n",
        "model.compile(optimizer='adam', loss='categorical_crossentropy', metrics=['accuracy'])\n",
        "\n",
        "CHK_PATH = \"/content/best_fruits_cnn.keras\"\n",
        "early = EarlyStopping(monitor='val_accuracy', patience=3, restore_best_weights=True)\n",
        "chkpt = ModelCheckpoint(CHK_PATH, monitor='val_accuracy', save_best_only=True, mode='max', verbose=1)\n",
        "\n",
        "callbacks = [early, chkpt]\n",
        "\n"
      ]
    },
    {
      "cell_type": "code",
      "execution_count": 11,
      "metadata": {
        "colab": {
          "base_uri": "https://localhost:8080/"
        },
        "id": "P6LWoQ4mF6Ig",
        "outputId": "db739a39-e4c3-46e4-da9a-50b24b5a2622"
      },
      "outputs": [
        {
          "output_type": "stream",
          "name": "stderr",
          "text": [
            "/usr/local/lib/python3.12/dist-packages/keras/src/trainers/data_adapters/py_dataset_adapter.py:121: UserWarning: Your `PyDataset` class should call `super().__init__(**kwargs)` in its constructor. `**kwargs` can include `workers`, `use_multiprocessing`, `max_queue_size`. Do not pass these arguments to `fit()`, as they will be ignored.\n",
            "  self._warn_if_super_not_called()\n"
          ]
        },
        {
          "output_type": "stream",
          "name": "stdout",
          "text": [
            "Epoch 1/10\n",
            "\u001b[1m2942/2942\u001b[0m \u001b[32m━━━━━━━━━━━━━━━━━━━━\u001b[0m\u001b[37m\u001b[0m \u001b[1m0s\u001b[0m 739ms/step - accuracy: 0.1896 - loss: 3.4691\n",
            "Epoch 1: val_accuracy improved from -inf to 0.76977, saving model to /content/best_fruits_cnn.keras\n",
            "\u001b[1m2942/2942\u001b[0m \u001b[32m━━━━━━━━━━━━━━━━━━━━\u001b[0m\u001b[37m\u001b[0m \u001b[1m2441s\u001b[0m 829ms/step - accuracy: 0.1896 - loss: 3.4687 - val_accuracy: 0.7698 - val_loss: 0.7920\n",
            "Epoch 2/10\n",
            "\u001b[1m2942/2942\u001b[0m \u001b[32m━━━━━━━━━━━━━━━━━━━━\u001b[0m\u001b[37m\u001b[0m \u001b[1m0s\u001b[0m 734ms/step - accuracy: 0.5678 - loss: 1.3381\n",
            "Epoch 2: val_accuracy improved from 0.76977 to 0.84110, saving model to /content/best_fruits_cnn.keras\n",
            "\u001b[1m2942/2942\u001b[0m \u001b[32m━━━━━━━━━━━━━━━━━━━━\u001b[0m\u001b[37m\u001b[0m \u001b[1m2421s\u001b[0m 823ms/step - accuracy: 0.5678 - loss: 1.3381 - val_accuracy: 0.8411 - val_loss: 0.5327\n",
            "Epoch 3/10\n",
            "\u001b[1m2942/2942\u001b[0m \u001b[32m━━━━━━━━━━━━━━━━━━━━\u001b[0m\u001b[37m\u001b[0m \u001b[1m0s\u001b[0m 720ms/step - accuracy: 0.6686 - loss: 0.9986\n",
            "Epoch 3: val_accuracy improved from 0.84110 to 0.88337, saving model to /content/best_fruits_cnn.keras\n",
            "\u001b[1m2942/2942\u001b[0m \u001b[32m━━━━━━━━━━━━━━━━━━━━\u001b[0m\u001b[37m\u001b[0m \u001b[1m2330s\u001b[0m 792ms/step - accuracy: 0.6686 - loss: 0.9986 - val_accuracy: 0.8834 - val_loss: 0.4085\n",
            "Epoch 4/10\n",
            "\u001b[1m2942/2942\u001b[0m \u001b[32m━━━━━━━━━━━━━━━━━━━━\u001b[0m\u001b[37m\u001b[0m \u001b[1m0s\u001b[0m 718ms/step - accuracy: 0.7296 - loss: 0.8014\n",
            "Epoch 4: val_accuracy improved from 0.88337 to 0.91033, saving model to /content/best_fruits_cnn.keras\n",
            "\u001b[1m2942/2942\u001b[0m \u001b[32m━━━━━━━━━━━━━━━━━━━━\u001b[0m\u001b[37m\u001b[0m \u001b[1m2323s\u001b[0m 790ms/step - accuracy: 0.7296 - loss: 0.8013 - val_accuracy: 0.9103 - val_loss: 0.3036\n",
            "Epoch 5/10\n",
            "\u001b[1m2942/2942\u001b[0m \u001b[32m━━━━━━━━━━━━━━━━━━━━\u001b[0m\u001b[37m\u001b[0m \u001b[1m0s\u001b[0m 717ms/step - accuracy: 0.7783 - loss: 0.6528\n",
            "Epoch 5: val_accuracy improved from 0.91033 to 0.91456, saving model to /content/best_fruits_cnn.keras\n",
            "\u001b[1m2942/2942\u001b[0m \u001b[32m━━━━━━━━━━━━━━━━━━━━\u001b[0m\u001b[37m\u001b[0m \u001b[1m2319s\u001b[0m 788ms/step - accuracy: 0.7783 - loss: 0.6528 - val_accuracy: 0.9146 - val_loss: 0.2915\n",
            "Epoch 6/10\n",
            "\u001b[1m2942/2942\u001b[0m \u001b[32m━━━━━━━━━━━━━━━━━━━━\u001b[0m\u001b[37m\u001b[0m \u001b[1m0s\u001b[0m 717ms/step - accuracy: 0.8132 - loss: 0.5418\n",
            "Epoch 6: val_accuracy improved from 0.91456 to 0.91528, saving model to /content/best_fruits_cnn.keras\n",
            "\u001b[1m2942/2942\u001b[0m \u001b[32m━━━━━━━━━━━━━━━━━━━━\u001b[0m\u001b[37m\u001b[0m \u001b[1m2319s\u001b[0m 788ms/step - accuracy: 0.8132 - loss: 0.5418 - val_accuracy: 0.9153 - val_loss: 0.2884\n",
            "Epoch 7/10\n",
            "\u001b[1m2942/2942\u001b[0m \u001b[32m━━━━━━━━━━━━━━━━━━━━\u001b[0m\u001b[37m\u001b[0m \u001b[1m0s\u001b[0m 714ms/step - accuracy: 0.8347 - loss: 0.4778\n",
            "Epoch 7: val_accuracy improved from 0.91528 to 0.92931, saving model to /content/best_fruits_cnn.keras\n",
            "\u001b[1m2942/2942\u001b[0m \u001b[32m━━━━━━━━━━━━━━━━━━━━\u001b[0m\u001b[37m\u001b[0m \u001b[1m2313s\u001b[0m 786ms/step - accuracy: 0.8347 - loss: 0.4778 - val_accuracy: 0.9293 - val_loss: 0.2526\n",
            "Epoch 8/10\n",
            "\u001b[1m2942/2942\u001b[0m \u001b[32m━━━━━━━━━━━━━━━━━━━━\u001b[0m\u001b[37m\u001b[0m \u001b[1m0s\u001b[0m 725ms/step - accuracy: 0.8523 - loss: 0.4253\n",
            "Epoch 8: val_accuracy did not improve from 0.92931\n",
            "\u001b[1m2942/2942\u001b[0m \u001b[32m━━━━━━━━━━━━━━━━━━━━\u001b[0m\u001b[37m\u001b[0m \u001b[1m2393s\u001b[0m 797ms/step - accuracy: 0.8523 - loss: 0.4253 - val_accuracy: 0.9246 - val_loss: 0.2713\n",
            "Epoch 9/10\n",
            "\u001b[1m2942/2942\u001b[0m \u001b[32m━━━━━━━━━━━━━━━━━━━━\u001b[0m\u001b[37m\u001b[0m \u001b[1m0s\u001b[0m 716ms/step - accuracy: 0.8667 - loss: 0.3892\n",
            "Epoch 9: val_accuracy improved from 0.92931 to 0.94309, saving model to /content/best_fruits_cnn.keras\n",
            "\u001b[1m2942/2942\u001b[0m \u001b[32m━━━━━━━━━━━━━━━━━━━━\u001b[0m\u001b[37m\u001b[0m \u001b[1m2369s\u001b[0m 805ms/step - accuracy: 0.8667 - loss: 0.3892 - val_accuracy: 0.9431 - val_loss: 0.2022\n",
            "Epoch 10/10\n",
            "\u001b[1m2942/2942\u001b[0m \u001b[32m━━━━━━━━━━━━━━━━━━━━\u001b[0m\u001b[37m\u001b[0m \u001b[1m0s\u001b[0m 715ms/step - accuracy: 0.8775 - loss: 0.3552\n",
            "Epoch 10: val_accuracy did not improve from 0.94309\n",
            "\u001b[1m2942/2942\u001b[0m \u001b[32m━━━━━━━━━━━━━━━━━━━━\u001b[0m\u001b[37m\u001b[0m \u001b[1m2315s\u001b[0m 787ms/step - accuracy: 0.8775 - loss: 0.3552 - val_accuracy: 0.9374 - val_loss: 0.2377\n"
          ]
        }
      ],
      "source": [
        "# ==============================================================\n",
        "# TRAIN THE CNN\n",
        "# ==============================================================\n",
        "\n",
        "EPOCHS = 10\n",
        "\n",
        "history = model.fit(\n",
        "    train_gen,\n",
        "    validation_data=val_gen,\n",
        "    epochs=EPOCHS,\n",
        "    callbacks=callbacks\n",
        ")\n"
      ]
    },
    {
      "cell_type": "code",
      "execution_count": 12,
      "metadata": {
        "id": "wnHPsvn7F9mM",
        "colab": {
          "base_uri": "https://localhost:8080/",
          "height": 957
        },
        "outputId": "b644a402-ecad-41ec-e501-4936861c3e6a"
      },
      "outputs": [
        {
          "output_type": "display_data",
          "data": {
            "text/plain": [
              "<Figure size 700x500 with 1 Axes>"
            ],
            "image/png": "[encoded data removed]"
          },
          "metadata": {}
        },
        {
          "output_type": "display_data",
          "data": {
            "text/plain": [
              "<Figure size 700x500 with 1 Axes>"
            ],
            "image/png": "[encoded data removed]"
          },
          "metadata": {}
        }
      ],
      "source": [
        "# ==============================================================\n",
        "# VISUALIZE TRAINING\n",
        "# ==============================================================\n",
        "\n",
        "import matplotlib.pyplot as plt\n",
        "\n",
        "plt.figure(figsize=(7,5))\n",
        "plt.plot(history.history['accuracy'], label='Train Accuracy')\n",
        "plt.plot(history.history['val_accuracy'], label='Validation Accuracy')\n",
        "plt.title('Model Accuracy'); plt.xlabel('Epoch'); plt.ylabel('Accuracy'); plt.legend(); plt.show()\n",
        "\n",
        "plt.figure(figsize=(7,5))\n",
        "plt.plot(history.history['loss'], label='Train Loss')\n",
        "plt.plot(history.history['val_loss'], label='Validation Loss')\n",
        "plt.title('Model Loss'); plt.xlabel('Epoch'); plt.ylabel('Loss'); plt.legend(); plt.show()\n"
      ]
    },
    {
      "cell_type": "code",
      "execution_count": 13,
      "metadata": {
        "id": "7mFI9MlzKOWA",
        "colab": {
          "base_uri": "https://localhost:8080/",
          "height": 100
        },
        "outputId": "045cec2a-8326-47ab-971f-35c7f360d59b"
      },
      "outputs": [
        {
          "output_type": "execute_result",
          "data": {
            "text/plain": [
              "<IPython.core.display.Markdown object>"
            ],
            "text/markdown": "### Final Model Performance\n- **Test Accuracy:** 96.30%\n- **Test Loss:** 0.1592"
          },
          "metadata": {},
          "execution_count": 13
        }
      ],
      "source": [
        "# ==============================================================\n",
        "# FINAL TEST EVALUATION\n",
        "# ==============================================================\n",
        "\n",
        "from IPython.display import Markdown\n",
        "\n",
        "test_loss, test_acc = model.evaluate(test_gen, verbose=0)\n",
        "\n",
        "Markdown(f\"### Final Model Performance\\n\"\n",
        "         f\"- **Test Accuracy:** {test_acc * 100:.2f}%\\n\"\n",
        "         f\"- **Test Loss:** {test_loss:.4f}\")\n",
        "\n"
      ]
    },
    {
      "cell_type": "code",
      "execution_count": 14,
      "metadata": {
        "id": "jlhu0rIyKRAZ",
        "colab": {
          "base_uri": "https://localhost:8080/"
        },
        "outputId": "17907f0e-1368-4d9b-d576-255dd84b8948"
      },
      "outputs": [
        {
          "output_type": "stream",
          "name": "stdout",
          "text": [
            "Model saved to: /content/fruits_classifier.keras\n"
          ]
        }
      ],
      "source": [
        "# ==============================================================\n",
        "# SAVE MODEL (.keras FORMAT) + LABEL MAP\n",
        "# ==============================================================\n",
        "\n",
        "import json\n",
        "\n",
        "MODEL_PATH = \"/content/fruits_classifier.keras\"\n",
        "model.save(MODEL_PATH)\n",
        "\n",
        "class_indices = train_gen.class_indices\n",
        "idx_to_class = {v:k for k,v in class_indices.items()}\n",
        "\n",
        "with open(\"/content/fruits_labels.json\", \"w\") as f:\n",
        "    json.dump(idx_to_class, f, indent=2)\n",
        "\n",
        "print(\"Model saved to:\", MODEL_PATH)\n"
      ]
    },
    {
      "cell_type": "code",
      "execution_count": 15,
      "metadata": {
        "id": "ApldLlquKWR7",
        "colab": {
          "base_uri": "https://localhost:8080/"
        },
        "outputId": "b33a9fc1-61fc-483a-bc57-24e6a2e1f9d3"
      },
      "outputs": [
        {
          "output_type": "stream",
          "name": "stdout",
          "text": [
            "Image path: /content/fruits_dataset/fruits-360_100x100/fruits-360/Test/Mango Red 1/r_54_100.jpg\n",
            "\u001b[1m1/1\u001b[0m \u001b[32m━━━━━━━━━━━━━━━━━━━━\u001b[0m\u001b[37m\u001b[0m \u001b[1m0s\u001b[0m 278ms/step\n",
            "Predicted class: Mango Red 1 | Confidence: 1.00\n"
          ]
        }
      ],
      "source": [
        "# ==============================================================\n",
        "# SINGLE IMAGE PREDICTION\n",
        "# ==============================================================\n",
        "\n",
        "from tensorflow.keras.preprocessing import image\n",
        "import numpy as np, json\n",
        "\n",
        "with open(\"/content/fruits_labels.json\") as f:\n",
        "    idx_to_class = json.load(f)\n",
        "\n",
        "fruit_folder = os.listdir(TEST_DIR)[0]\n",
        "img_name = os.listdir(os.path.join(TEST_DIR, fruit_folder))[0]\n",
        "img_path = os.path.join(TEST_DIR, fruit_folder, img_name)\n",
        "print(\"Image path:\", img_path)\n",
        "\n",
        "img = image.load_img(img_path, target_size=IMG_SIZE)\n",
        "x = image.img_to_array(img)/255.0\n",
        "x = np.expand_dims(x, axis=0)\n",
        "\n",
        "probs = model.predict(x)\n",
        "pred_idx = int(np.argmax(probs))\n",
        "pred_label = idx_to_class[str(pred_idx)] if isinstance(list(idx_to_class.keys())[0], str) else idx_to_class[pred_idx]\n",
        "print(f\"Predicted class: {pred_label} | Confidence: {probs[0][pred_idx]:.2f}\")\n"
      ]
    },
    {
      "cell_type": "code",
      "execution_count": 17,
      "metadata": {
        "id": "iC4LD753KfBb",
        "colab": {
          "base_uri": "https://localhost:8080/",
          "height": 155
        },
        "outputId": "31919cd3-6f43-48d9-fb78-3506b80b4f04"
      },
      "outputs": [
        {
          "output_type": "stream",
          "name": "stdout",
          "text": [
            "Model reloaded successfully.\n",
            "Labels reloaded.\n",
            "Found 39212 images belonging to 225 classes.\n"
          ]
        },
        {
          "output_type": "execute_result",
          "data": {
            "text/plain": [
              "<IPython.core.display.Markdown object>"
            ],
            "text/markdown": "### Reloaded Model Performance\n- **Accuracy:** 96.30%\n- **Loss:** 0.1592"
          },
          "metadata": {},
          "execution_count": 17
        }
      ],
      "source": [
        "# ==============================================================\n",
        "# RELOAD MODEL & VERIFY RESULTS\n",
        "# ==============================================================\n",
        "\n",
        "from tensorflow.keras.models import load_model\n",
        "import json\n",
        "\n",
        "# Load model\n",
        "model = load_model(\"/content/fruits_classifier.keras\")\n",
        "print(\"Model reloaded successfully.\")\n",
        "\n",
        "# Reload labels\n",
        "with open(\"/content/fruits_labels.json\") as f:\n",
        "    idx_to_class = json.load(f)\n",
        "print(\"Labels reloaded.\")\n",
        "\n",
        "# Recreate test generator\n",
        "from tensorflow.keras.preprocessing.image import ImageDataGenerator\n",
        "test_datagen = ImageDataGenerator(rescale=1./255)\n",
        "test_gen = test_datagen.flow_from_directory(\n",
        "    TEST_DIR,\n",
        "    target_size=IMG_SIZE,\n",
        "    batch_size=BATCH,\n",
        "    class_mode='categorical',\n",
        "    shuffle=False\n",
        ")\n",
        "\n",
        "# Evaluate again\n",
        "test_loss, test_acc = model.evaluate(test_gen, verbose=0)\n",
        "Markdown(f\"### Reloaded Model Performance\\n- **Accuracy:** {test_acc*100:.2f}%\\n- **Loss:** {test_loss:.4f}\")\n"
      ]
    },
    {
      "cell_type": "code",
      "source": [
        "# ==============================================================\n",
        "# SAVE TRAINED MODEL SAFELY TO GOOGLE DRIVE\n",
        "# ==============================================================\n",
        "\n",
        "from google.colab import drive\n",
        "import json, os\n",
        "\n",
        "# Mount Google Drive\n",
        "drive.mount('/content/drive')\n",
        "\n",
        "# Create folder for SmartFoodAI project\n",
        "SAVE_DIR = \"/content/drive/MyDrive/SmartFoodAI\"\n",
        "os.makedirs(SAVE_DIR, exist_ok=True)\n",
        "\n",
        "# Define paths\n",
        "MODEL_PATH = os.path.join(SAVE_DIR, \"fruits_classifier.keras\")\n",
        "LABELS_PATH = os.path.join(SAVE_DIR, \"fruits_labels.json\")\n",
        "\n",
        "# Save model and labels\n",
        "model.save(MODEL_PATH)\n",
        "\n",
        "class_indices = train_gen.class_indices\n",
        "idx_to_class = {v: k for k, v in class_indices.items()}\n",
        "\n",
        "with open(LABELS_PATH, \"w\") as f:\n",
        "    json.dump(idx_to_class, f, indent=2)\n",
        "\n",
        "print(\"Model saved permanently at:\", MODEL_PATH)\n",
        "print(\"Labels saved at:\", LABELS_PATH)\n"
      ],
      "metadata": {
        "colab": {
          "base_uri": "https://localhost:8080/"
        },
        "id": "Lk0VqO-dkYc-",
        "outputId": "a40d2ae4-7f59-459f-d5fe-db7fe2d61f6c"
      },
      "execution_count": 18,
      "outputs": [
        {
          "output_type": "stream",
          "name": "stdout",
          "text": [
            "Mounted at /content/drive\n",
            "Model saved permanently at: /content/drive/MyDrive/SmartFoodAI/fruits_classifier.keras\n",
            "Labels saved at: /content/drive/MyDrive/SmartFoodAI/fruits_labels.json\n"
          ]
        }
      ]
    },
    {
      "cell_type": "code",
      "source": [
        "!ls -lh /content/drive/MyDrive/SmartFoodAI/"
      ],
      "metadata": {
        "colab": {
          "base_uri": "https://localhost:8080/"
        },
        "id": "90BFLxztIH8c",
        "outputId": "9ce33e5e-35fb-4914-b5ed-fbe6e5e1c15a"
      },
      "execution_count": 19,
      "outputs": [
        {
          "output_type": "stream",
          "name": "stdout",
          "text": [
            "total 21M\n",
            "-rw------- 1 root root  21M Oct 31 16:36 fruits_classifier.keras\n",
            "-rw------- 1 root root 5.3K Oct 31 16:36 fruits_labels.json\n"
          ]
        }
      ]
    },
    {
      "cell_type": "code",
      "source": [
        "# ==============================================================\n",
        "# RELOAD TRAINED MODEL FROM GOOGLE DRIVE\n",
        "# ==============================================================\n",
        "\n",
        "from google.colab import drive\n",
        "drive.mount('/content/drive')\n",
        "\n",
        "from tensorflow.keras.models import load_model\n",
        "import json\n",
        "\n",
        "MODEL_PATH = \"/content/drive/MyDrive/SmartFoodAI/fruits_classifier.keras\"\n",
        "LABELS_PATH = \"/content/drive/MyDrive/SmartFoodAI/fruits_labels.json\"\n",
        "\n",
        "model = load_model(MODEL_PATH)\n",
        "print(\"Model loaded successfully.\")\n",
        "\n",
        "with open(LABELS_PATH) as f:\n",
        "    idx_to_class = json.load(f)\n",
        "print(\"Labels loaded successfully. Classes:\", len(idx_to_class))\n"
      ],
      "metadata": {
        "colab": {
          "base_uri": "https://localhost:8080/"
        },
        "id": "uajupvTSIUJ2",
        "outputId": "31047bc5-f761-475a-b32c-cd57c8cbef1c"
      },
      "execution_count": 20,
      "outputs": [
        {
          "output_type": "stream",
          "name": "stdout",
          "text": [
            "Drive already mounted at /content/drive; to attempt to forcibly remount, call drive.mount(\"/content/drive\", force_remount=True).\n",
            "Model loaded successfully.\n",
            "Labels loaded successfully. Classes: 225\n"
          ]
        }
      ]
    },
    {
      "cell_type": "code",
      "source": [
        "from google.colab import files\n",
        "files.download(\"/content/drive/MyDrive/SmartFoodAI/fruits_classifier.keras\")\n",
        "files.download(\"/content/drive/MyDrive/SmartFoodAI/fruits_labels.json\")"
      ],
      "metadata": {
        "id": "4KUYJXPqIhGM",
        "outputId": "3f88fd15-a0aa-4c61-d77a-eb958cbccfb8",
        "colab": {
          "base_uri": "https://localhost:8080/",
          "height": 17
        }
      },
      "execution_count": 21,
      "outputs": [
        {
          "output_type": "display_data",
          "data": {
            "text/plain": [
              "<IPython.core.display.Javascript object>"
            ],
            "application/javascript": [
              "\n",
              "    async function download(id, filename, size) {\n",
              "      if (!google.colab.kernel.accessAllowed) {\n",
              "        return;\n",
              "      }\n",
              "      const div = document.createElement('div');\n",
              "      const label = document.createElement('label');\n",
              "      label.textContent = `Downloading \"${filename}\": `;\n",
              "      div.appendChild(label);\n",
              "      const progress = document.createElement('progress');\n",
              "      progress.max = size;\n",
              "      div.appendChild(progress);\n",
              "      document.body.appendChild(div);\n",
              "\n",
              "      const buffers = [];\n",
              "      let downloaded = 0;\n",
              "\n",
              "      const channel = await google.colab.kernel.comms.open(id);\n",
              "      // Send a message to notify the kernel that we're ready.\n",
              "      channel.send({})\n",
              "\n",
              "      for await (const message of channel.messages) {\n",
              "        // Send a message to notify the kernel that we're ready.\n",
              "        channel.send({})\n",
              "        if (message.buffers) {\n",
              "          for (const buffer of message.buffers) {\n",
              "            buffers.push(buffer);\n",
              "            downloaded += buffer.byteLength;\n",
              "            progress.value = downloaded;\n",
              "          }\n",
              "        }\n",
              "      }\n",
              "      const blob = new Blob(buffers, {type: 'application/binary'});\n",
              "      const a = document.createElement('a');\n",
              "      a.href = window.URL.createObjectURL(blob);\n",
              "      a.download = filename;\n",
              "      div.appendChild(a);\n",
              "      a.click();\n",
              "      div.remove();\n",
              "    }\n",
              "  "
            ]
          },
          "metadata": {}
        },
        {
          "output_type": "display_data",
          "data": {
            "text/plain": [
              "<IPython.core.display.Javascript object>"
            ],
            "application/javascript": [
              "download(\"download_34eb7d86-a872-4c2a-9e98-013c49bc9347\", \"fruits_classifier.keras\", 21176722)"
            ]
          },
          "metadata": {}
        },
        {
          "output_type": "display_data",
          "data": {
            "text/plain": [
              "<IPython.core.display.Javascript object>"
            ],
            "application/javascript": [
              "\n",
              "    async function download(id, filename, size) {\n",
              "      if (!google.colab.kernel.accessAllowed) {\n",
              "        return;\n",
              "      }\n",
              "      const div = document.createElement('div');\n",
              "      const label = document.createElement('label');\n",
              "      label.textContent = `Downloading \"${filename}\": `;\n",
              "      div.appendChild(label);\n",
              "      const progress = document.createElement('progress');\n",
              "      progress.max = size;\n",
              "      div.appendChild(progress);\n",
              "      document.body.appendChild(div);\n",
              "\n",
              "      const buffers = [];\n",
              "      let downloaded = 0;\n",
              "\n",
              "      const channel = await google.colab.kernel.comms.open(id);\n",
              "      // Send a message to notify the kernel that we're ready.\n",
              "      channel.send({})\n",
              "\n",
              "      for await (const message of channel.messages) {\n",
              "        // Send a message to notify the kernel that we're ready.\n",
              "        channel.send({})\n",
              "        if (message.buffers) {\n",
              "          for (const buffer of message.buffers) {\n",
              "            buffers.push(buffer);\n",
              "            downloaded += buffer.byteLength;\n",
              "            progress.value = downloaded;\n",
              "          }\n",
              "        }\n",
              "      }\n",
              "      const blob = new Blob(buffers, {type: 'application/binary'});\n",
              "      const a = document.createElement('a');\n",
              "      a.href = window.URL.createObjectURL(blob);\n",
              "      a.download = filename;\n",
              "      div.appendChild(a);\n",
              "      a.click();\n",
              "      div.remove();\n",
              "    }\n",
              "  "
            ]
          },
          "metadata": {}
        },
        {
          "output_type": "display_data",
          "data": {
            "text/plain": [
              "<IPython.core.display.Javascript object>"
            ],
            "application/javascript": [
              "download(\"download_20822b35-ee0e-4a6f-8e7f-8c42854628e4\", \"fruits_labels.json\", 5419)"
            ]
          },
          "metadata": {}
        }
      ]
    },
    {
      "cell_type": "code",
      "source": [],
      "metadata": {
        "id": "Liv87xPLJhCm"
      },
      "execution_count": null,
      "outputs": []
    }
  ],
  "metadata": {
    "accelerator": "GPU",
    "colab": {
      "gpuType": "T4",
      "provenance": [],
      "authorship_tag": "ABX9TyOB8B3yrvf/51E+yrH3uen5",
      "include_colab_link": true
    },
    "kernelspec": {
      "display_name": "Python 3",
      "name": "python3"
    },
    "language_info": {
      "name": "python"
    }
  },
  "nbformat": 4,
  "nbformat_minor": 0
}